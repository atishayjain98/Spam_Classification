{
  "nbformat": 4,
  "nbformat_minor": 0,
  "metadata": {
    "colab": {
      "name": "Spam Classifier.ipynb",
      "provenance": [],
      "toc_visible": true
    },
    "kernelspec": {
      "name": "python3",
      "display_name": "Python 3"
    }
  },
  "cells": [
    {
      "cell_type": "code",
      "metadata": {
        "id": "I3TF5nKJN91t",
        "colab": {
          "base_uri": "https://localhost:8080/"
        },
        "outputId": "ce7c3ab4-7e95-44ec-8cf0-fd4f9bdeb6d7"
      },
      "source": [
        "import nltk\n",
        "nltk.download('wordnet') #Incase you havent downloaded that yet. \n",
        "nltk.download('stopwords')"
      ],
      "execution_count": 1,
      "outputs": [
        {
          "output_type": "stream",
          "text": [
            "[nltk_data] Downloading package wordnet to /root/nltk_data...\n",
            "[nltk_data]   Package wordnet is already up-to-date!\n",
            "[nltk_data] Downloading package stopwords to /root/nltk_data...\n",
            "[nltk_data]   Package stopwords is already up-to-date!\n"
          ],
          "name": "stdout"
        },
        {
          "output_type": "execute_result",
          "data": {
            "text/plain": [
              "True"
            ]
          },
          "metadata": {
            "tags": []
          },
          "execution_count": 1
        }
      ]
    },
    {
      "cell_type": "code",
      "metadata": {
        "id": "TvUAxrg9HS5u"
      },
      "source": [
        "#importing Libs\n",
        "import pandas as pd\n",
        "import re \n",
        "\n",
        "from nltk.corpus import stopwords\n",
        "from nltk.stem import WordNetLemmatizer\n",
        "\n",
        "from sklearn.feature_extraction.text import CountVectorizer\n",
        "from sklearn.model_selection import train_test_split\n",
        "\n",
        "from sklearn.naive_bayes import MultinomialNB\n",
        "from sklearn.linear_model import LogisticRegression\n",
        "\n",
        "from sklearn.metrics import accuracy_score"
      ],
      "execution_count": 2,
      "outputs": []
    },
    {
      "cell_type": "code",
      "metadata": {
        "colab": {
          "base_uri": "https://localhost:8080/"
        },
        "id": "uqh_ClU5LIB2",
        "outputId": "3d1f7089-ebfb-4a28-9765-2c67eab52a80"
      },
      "source": [
        "#fetching data\n",
        "\n",
        "! git clone https://github.com/atishayjain98/Spam_Classification.git "
      ],
      "execution_count": 3,
      "outputs": [
        {
          "output_type": "stream",
          "text": [
            "fatal: destination path 'Spam_Classification' already exists and is not an empty directory.\n"
          ],
          "name": "stdout"
        }
      ]
    },
    {
      "cell_type": "code",
      "metadata": {
        "id": "Ey2sARG4LPNa"
      },
      "source": [
        "#reading data\n",
        "\n",
        "data = pd.read_csv('/content/Spam_Classification/Data File/SMSSpamCollection', sep = '\\t', names=[\"label\", \"message\"])"
      ],
      "execution_count": 4,
      "outputs": []
    },
    {
      "cell_type": "code",
      "metadata": {
        "colab": {
          "base_uri": "https://localhost:8080/",
          "height": 204
        },
        "id": "4Q5x7x9tLS52",
        "outputId": "14c9f3ef-90fa-494d-ed56-1f404ab98541"
      },
      "source": [
        "data.head()"
      ],
      "execution_count": 5,
      "outputs": [
        {
          "output_type": "execute_result",
          "data": {
            "text/html": [
              "<div>\n",
              "<style scoped>\n",
              "    .dataframe tbody tr th:only-of-type {\n",
              "        vertical-align: middle;\n",
              "    }\n",
              "\n",
              "    .dataframe tbody tr th {\n",
              "        vertical-align: top;\n",
              "    }\n",
              "\n",
              "    .dataframe thead th {\n",
              "        text-align: right;\n",
              "    }\n",
              "</style>\n",
              "<table border=\"1\" class=\"dataframe\">\n",
              "  <thead>\n",
              "    <tr style=\"text-align: right;\">\n",
              "      <th></th>\n",
              "      <th>label</th>\n",
              "      <th>message</th>\n",
              "    </tr>\n",
              "  </thead>\n",
              "  <tbody>\n",
              "    <tr>\n",
              "      <th>0</th>\n",
              "      <td>ham</td>\n",
              "      <td>Go until jurong point, crazy.. Available only ...</td>\n",
              "    </tr>\n",
              "    <tr>\n",
              "      <th>1</th>\n",
              "      <td>ham</td>\n",
              "      <td>Ok lar... Joking wif u oni...</td>\n",
              "    </tr>\n",
              "    <tr>\n",
              "      <th>2</th>\n",
              "      <td>spam</td>\n",
              "      <td>Free entry in 2 a wkly comp to win FA Cup fina...</td>\n",
              "    </tr>\n",
              "    <tr>\n",
              "      <th>3</th>\n",
              "      <td>ham</td>\n",
              "      <td>U dun say so early hor... U c already then say...</td>\n",
              "    </tr>\n",
              "    <tr>\n",
              "      <th>4</th>\n",
              "      <td>ham</td>\n",
              "      <td>Nah I don't think he goes to usf, he lives aro...</td>\n",
              "    </tr>\n",
              "  </tbody>\n",
              "</table>\n",
              "</div>"
            ],
            "text/plain": [
              "  label                                            message\n",
              "0   ham  Go until jurong point, crazy.. Available only ...\n",
              "1   ham                      Ok lar... Joking wif u oni...\n",
              "2  spam  Free entry in 2 a wkly comp to win FA Cup fina...\n",
              "3   ham  U dun say so early hor... U c already then say...\n",
              "4   ham  Nah I don't think he goes to usf, he lives aro..."
            ]
          },
          "metadata": {
            "tags": []
          },
          "execution_count": 5
        }
      ]
    },
    {
      "cell_type": "code",
      "metadata": {
        "id": "6qNjSv0XLfAl"
      },
      "source": [
        "#text preprocessing and cleaning \n",
        "\n",
        "lemmer = WordNetLemmatizer()\n",
        "\n",
        "cleaned_data = []\n",
        "\n",
        "for i in range(len(data)):\n",
        "  rev = re.sub('[^a-zA-Z]', ' ', data['message'][i])\n",
        "  rev = rev.lower()\n",
        "  rev = rev.split()\n",
        "  rev = [lemmer.lemmatize(word) for word in rev if not word in stopwords.words('english')]\n",
        "  rev = ' '.join(rev)\n",
        "  cleaned_data.append(rev)"
      ],
      "execution_count": 6,
      "outputs": []
    },
    {
      "cell_type": "code",
      "metadata": {
        "id": "gSy8Sg0VLni7"
      },
      "source": [
        "#Building Bag of Word \n",
        "\n",
        "cv = CountVectorizer(max_features=2500)\n",
        "X = cv.fit_transform(cleaned_data).toarray()"
      ],
      "execution_count": 7,
      "outputs": []
    },
    {
      "cell_type": "code",
      "metadata": {
        "id": "VOhp7FUwLsE7"
      },
      "source": [
        "y = pd.get_dummies(data['label'])\n",
        "y = y.iloc[:,1].values"
      ],
      "execution_count": 8,
      "outputs": []
    },
    {
      "cell_type": "code",
      "metadata": {
        "id": "fUpf1g5dLoXJ"
      },
      "source": [
        "#train test split\n",
        "\n",
        "X_train, X_test, y_train, y_test = train_test_split(X,y, test_size = 0.2, random_state = 0)"
      ],
      "execution_count": 9,
      "outputs": []
    },
    {
      "cell_type": "code",
      "metadata": {
        "colab": {
          "base_uri": "https://localhost:8080/"
        },
        "id": "C6r72XjMMKA8",
        "outputId": "a2e84078-60ff-4130-b36c-747eec6b2e79"
      },
      "source": [
        "#training model using Naive Bayes\n",
        "\n",
        "spam_detect_model = MultinomialNB().fit(X_train, y_train)\n",
        "y_pred=spam_detect_model.predict(X_test) #predecting model\n",
        "accuracy_score(y_test,y_pred) #checking accuracy"
      ],
      "execution_count": 10,
      "outputs": [
        {
          "output_type": "execute_result",
          "data": {
            "text/plain": [
              "0.9829596412556054"
            ]
          },
          "metadata": {
            "tags": []
          },
          "execution_count": 10
        }
      ]
    },
    {
      "cell_type": "markdown",
      "metadata": {
        "id": "xogAouciNxcl"
      },
      "source": [
        "Our model has 98% accuracy on Naive Bayes Algorithm. \n"
      ]
    },
    {
      "cell_type": "code",
      "metadata": {
        "colab": {
          "base_uri": "https://localhost:8080/"
        },
        "id": "I3gP_25QOFK_",
        "outputId": "3d65164c-3c71-43f0-c379-d9565ba67f0d"
      },
      "source": [
        "#training model using Logistic Regression\n",
        "\n",
        "lr = LogisticRegression(solver='liblinear', penalty='l1')\n",
        "spam_detect_model = lr.fit(X_train, y_train)\n",
        "y_pred=spam_detect_model.predict(X_test) #predecting model\n",
        "accuracy_score(y_test,y_pred) #checking accuracy"
      ],
      "execution_count": 11,
      "outputs": [
        {
          "output_type": "execute_result",
          "data": {
            "text/plain": [
              "0.9838565022421525"
            ]
          },
          "metadata": {
            "tags": []
          },
          "execution_count": 11
        }
      ]
    },
    {
      "cell_type": "markdown",
      "metadata": {
        "id": "QJs-2lwXOlWG"
      },
      "source": [
        "Our model has 98% accuracy on Logistic Regreesion Algorithm. \n"
      ]
    }
  ]
}